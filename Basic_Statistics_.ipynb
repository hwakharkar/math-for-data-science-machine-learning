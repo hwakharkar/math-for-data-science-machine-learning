{
  "nbformat": 4,
  "nbformat_minor": 0,
  "metadata": {
    "colab": {
      "provenance": [],
      "authorship_tag": "ABX9TyNU2PYQpkdyW2dbyqvR9UHQ",
      "include_colab_link": true
    },
    "kernelspec": {
      "name": "python3",
      "display_name": "Python 3"
    },
    "language_info": {
      "name": "python"
    }
  },
  "cells": [
    {
      "cell_type": "markdown",
      "metadata": {
        "id": "view-in-github",
        "colab_type": "text"
      },
      "source": [
        "<a href=\"https://colab.research.google.com/github/hwakharkar/math-for-data-science-machine-learning/blob/main/Basic_Statistics_.ipynb\" target=\"_parent\"><img src=\"https://colab.research.google.com/assets/colab-badge.svg\" alt=\"Open In Colab\"/></a>"
      ]
    },
    {
      "cell_type": "markdown",
      "source": [
        "# **Chapter 1: Measure of Central Tendency**"
      ],
      "metadata": {
        "id": "qrPX16F6CEO2"
      }
    },
    {
      "cell_type": "markdown",
      "source": [
        "*Measure of Central Tendency is a statistical measure that represents a typical or central value for a dataset.*\n",
        "\n",
        "It summarizes the whole data by identifying a single value that is most representative of the dataset as a whole."
      ],
      "metadata": {
        "id": "C96E90LoBwiL"
      }
    },
    {
      "cell_type": "markdown",
      "source": [
        ">**1. Mean**: Mean is the sum of all values in the dataset divided by the number of values.\n",
        "\n",
        ">--Mean formula here--\n",
        "\n",
        ">**2. Median**: Median is the middle value in the dataset when the data is arranged in order.\n",
        "\n",
        ">**3. Mode**: Mode is the value that appears most frequently in the dataset.\n"
      ],
      "metadata": {
        "id": "eLShUMJKDuD0"
      }
    },
    {
      "cell_type": "markdown",
      "source": [
        "We'll understand these measures with the help of Python:"
      ],
      "metadata": {
        "id": "31GYTHjlFZzB"
      }
    },
    {
      "cell_type": "code",
      "source": [
        "import statistics"
      ],
      "metadata": {
        "id": "nxsa0YriFsyz"
      },
      "execution_count": 11,
      "outputs": []
    },
    {
      "cell_type": "code",
      "source": [
        "#Creating a random list.\n",
        "age = [32,42,55,12,66,32,54,32,66,99,102,32]"
      ],
      "metadata": {
        "id": "VCbW6rIEHHTE"
      },
      "execution_count": 12,
      "outputs": []
    },
    {
      "cell_type": "code",
      "source": [
        "# Calculating mean\n",
        "mean = statistics.mean(age)\n",
        "\n",
        "print(\"Mean:\",mean)"
      ],
      "metadata": {
        "colab": {
          "base_uri": "https://localhost:8080/"
        },
        "id": "es3cqv_VJU3d",
        "outputId": "da806dfa-b02e-4d2c-887d-8c850d957fe4"
      },
      "execution_count": 16,
      "outputs": [
        {
          "output_type": "stream",
          "name": "stdout",
          "text": [
            "Mean: 52\n"
          ]
        }
      ]
    },
    {
      "cell_type": "code",
      "source": [
        "# Calculating Median:\n",
        "median = statistics.median(age)\n",
        "\n",
        "print(\"Median:\",median)"
      ],
      "metadata": {
        "colab": {
          "base_uri": "https://localhost:8080/"
        },
        "id": "B3hyGJXmJv7h",
        "outputId": "c322a4b6-7acd-4fea-eb59-9a172caf0e53"
      },
      "execution_count": 18,
      "outputs": [
        {
          "output_type": "stream",
          "name": "stdout",
          "text": [
            "Median: 48.0\n"
          ]
        }
      ]
    },
    {
      "cell_type": "code",
      "source": [
        "#Calculating Mode:\n",
        "mode = statistics.mode(age)\n",
        "\n",
        "print(\"Mode:\", mode)"
      ],
      "metadata": {
        "colab": {
          "base_uri": "https://localhost:8080/"
        },
        "id": "GOvlriieK2Ut",
        "outputId": "2beb3c3a-da2e-4dda-e085-4bce3067c9dd"
      },
      "execution_count": 19,
      "outputs": [
        {
          "output_type": "stream",
          "name": "stdout",
          "text": [
            "Mode: 32\n"
          ]
        }
      ]
    }
  ]
}